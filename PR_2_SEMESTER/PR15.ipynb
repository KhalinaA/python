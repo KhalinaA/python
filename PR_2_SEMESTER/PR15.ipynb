{
  "cells": [
    {
      "cell_type": "markdown",
      "metadata": {
        "id": "m9EGwLY9jZbw"
      },
      "source": [
        "# Практическая работа №15. Основы ООП. Часть 3\n",
        "\n",
        "[**Ссылка на код с пары**](https://colab.research.google.com/drive/1iEAmZh8VNbztM_hbQRfUJ35VO-ks54m1?usp=sharing)"
      ]
    },
    {
      "cell_type": "markdown",
      "metadata": {
        "id": "lbsjeTllsm5A"
      },
      "source": [
        "**В коде ниже представлен класс преподавателей и класс студентов (вы можете взять этот код за основу или написать свой).**"
      ]
    },
    {
      "cell_type": "code",
      "execution_count": 5,
      "metadata": {
        "id": "PlqK9m7KrT6e"
      },
      "outputs": [],
      "source": [
        "class Student:\n",
        "    def __init__(self, name, surname, gender):\n",
        "        self.name = name\n",
        "        self.surname = surname\n",
        "        self.gender = gender\n",
        "        self.finished_courses = []\n",
        "        self.courses_in_progress = []\n",
        "        self.grades = {}\n",
        " \n",
        "    def add_courses(self, course_name):\n",
        "        self.finished_courses.append(course_name)    \n",
        " \n",
        " \n",
        "class Mentor:\n",
        "    def __init__(self, name, surname):\n",
        "        self.name = name\n",
        "        self.surname = surname\n",
        "        self.courses_attached = []\n",
        "        \n",
        "    def rate_hw(self, student, course, grade):\n",
        "        student.grades[course] = [grade]"
      ]
    },
    {
      "cell_type": "code",
      "execution_count": 6,
      "metadata": {
        "colab": {
          "base_uri": "https://localhost:8080/"
        },
        "id": "oNc1-dVaw3ee",
        "outputId": "4b5e3471-968d-4a84-fcca-2fa613ab39b9"
      },
      "outputs": [
        {
          "name": "stdout",
          "output_type": "stream",
          "text": [
            "Имя студента:  Ruoy\n",
            "Имя преподавателя:  Some\n",
            "Оценки студента по курсам:  {'Python': [10]}\n"
          ]
        }
      ],
      "source": [
        "best_student = Student('Ruoy', 'Eman', 'your_gender')\n",
        "cool_mentor = Mentor('Some', 'Buddy')\n",
        "cool_mentor.rate_hw(best_student, 'Python', 10)\n",
        "\n",
        "print(\"Имя студента: \", best_student.name)\n",
        "print(\"Имя преподавателя: \", cool_mentor.name)\n",
        "print(\"Оценки студента по курсам: \", best_student.grades)"
      ]
    },
    {
      "cell_type": "markdown",
      "metadata": {
        "id": "08FkYxULrxE-"
      },
      "source": [
        "## Задание 1. Наследование"
      ]
    },
    {
      "cell_type": "markdown",
      "metadata": {
        "id": "YNjsCv5ItOii"
      },
      "source": [
        "* Класс Mentor должен стать родительским классом для преподавателей. От него нужно реализовать наследование классов Lecturer (лекторы) и Reviewer (эксперты, проверяющие домашние задания). \n",
        "\n",
        "> Имя, фамилю и список закрепленных курсов логично реализовать на уровне родительского класса."
      ]
    },
    {
      "cell_type": "code",
      "execution_count": 17,
      "metadata": {
        "id": "1quZPRZKtIoc"
      },
      "outputs": [],
      "source": [
        "# Ваш код\n",
        "class Mentor:\n",
        "    def __init__(self, name, surname):\n",
        "        self.name = name\n",
        "        self.surname = surname\n",
        "        self.courses_attached = []\n",
        "\n",
        "    def __str__(self) -> str:\n",
        "        return f\"Имя: {self.name}\\nФамилия: {self.surname}\\n\"\n",
        "\n",
        "    def __len__(self):\n",
        "        return len(self.courses_attached)\n",
        "\n",
        "    def __eq__(self, other):\n",
        "        return (\n",
        "            self.name == other.name\n",
        "            and self.surname == other.surname\n",
        "            and self.courses_attached == other.courses_attached\n",
        "        )\n",
        "\n",
        "    def __ne__(self, other):\n",
        "        return not self.__eq__(other)\n",
        "\n",
        "    def add_courses(self, course_name):\n",
        "        self.courses_attached.append(course_name)\n",
        "\n",
        "\n",
        "class Lecturer(Mentor):\n",
        "    def __init__(self, name, surname):\n",
        "        super().__init__(name, surname)\n",
        "        self.grades = {}\n",
        "\n",
        "    def __str__(self) -> str:\n",
        "        return (\n",
        "            super().__str__()\n",
        "            + f\"Средняя оценка за лекции: {0 if len(self.grades) == 0 else sum([sum(v) / len(v) if len(v) != 0 else 0 for v in self.grades.values()])/ len(self.grades)}\\n\"\n",
        "        )\n",
        "\n",
        "    def __len__(self):\n",
        "        return super().__len__()\n",
        "\n",
        "    def __eq__(self, other):\n",
        "        return super().__eq__(other) and self.grades == other.grades\n",
        "\n",
        "    def __ne__(self, other):\n",
        "        return super().__ne__(other) and self.grades != other.grades\n",
        "\n",
        "    def add_courses(self, course_name):\n",
        "        super().add_courses(course_name)\n",
        "        self.grades[course_name] = []\n",
        "\n",
        "\n",
        "class Reviewer(Mentor):\n",
        "    def __init__(self, name, surname):\n",
        "        super().__init__(name, surname)\n",
        "\n",
        "    def __str__(self) -> str:\n",
        "        return super().__str__()\n",
        "\n",
        "    def __len__(self):\n",
        "        return super().__len__()\n",
        "\n",
        "    def __eq__(self, other):\n",
        "        return super().__eq__(other)\n",
        "\n",
        "    def __ne__(self, other):\n",
        "        return super().__ne__(other)\n",
        "\n",
        "    def rate_hw(self, student, course, grade):\n",
        "        student.grades[course].append(grade)\n",
        "\n",
        "\n",
        "class Student:\n",
        "    def __init__(self, name, surname, gender):\n",
        "        self.name = name\n",
        "        self.surname = surname\n",
        "        self.gender = gender\n",
        "        self.finished_courses = []\n",
        "        self.courses_in_progress = []\n",
        "        self.grades = {}\n",
        "\n",
        "    def __str__(self) -> str:\n",
        "        return (\n",
        "            f\"Имя: {self.name}\\n\"\n",
        "            f\"Фамилия: {self.surname}\\n\"\n",
        "            f\"Средняя оценка за домашние задания: {0 if len(self.grades) == 0 else sum([sum(v) / len(v) if len(v) != 0 else 0 for v in self.grades.values()])/ len(self.grades)}\\n\"\n",
        "            f\"Курсы в процессе изучения: {', '.join(self.courses_in_progress)}\\n\"\n",
        "            f\"Завершенные курсы: {', '.join(self.finished_courses)}\\n\"\n",
        "        )\n",
        "\n",
        "    def __len__(self):\n",
        "        return len(self.grades)\n",
        "\n",
        "    def __eq__(self, other):\n",
        "        return (\n",
        "            self.name == other.name\n",
        "            and self.surname == other.surname\n",
        "            and self.gender == other.gender\n",
        "            and self.finished_courses == other.finished_courses\n",
        "            and self.courses_in_progress == other.courses_in_progress\n",
        "            and self.grades == other.grades\n",
        "        )\n",
        "\n",
        "    def __ne__(self, other):\n",
        "        return not self.__eq__(other)\n",
        "\n",
        "    def add_course_in_progress(self, course_name):\n",
        "        self.courses_in_progress.append(course_name)\n",
        "        self.grades[course_name] = []\n",
        "\n",
        "    def add_finished_course(self, course_name):\n",
        "        self.finished_courses.append(course_name)\n",
        "\n",
        "    def rate_lecturer(self, lecturer: Lecturer, course_name, grade):\n",
        "        if course_name in lecturer.courses_attached:\n",
        "            lecturer.grades[course_name].append(grade)\n"
      ]
    },
    {
      "cell_type": "markdown",
      "metadata": {
        "id": "oL8kB-uUtH5K"
      },
      "source": [
        "## Задание 2. Атрибуты и взаимодействие классов"
      ]
    },
    {
      "cell_type": "markdown",
      "metadata": {
        "id": "ddcuJFCksWsY"
      },
      "source": [
        "* Реализуйте возможность проставления оценок студентам только Reviewer-ам (реализуйте такой метод).\n",
        "\n",
        "* Реализуйте метод выставления оценок лекторам у класса Student (оценки по 10-балльной шкале, хранятся в атрибуте-словаре у Lecturer, в котором ключи – названия курсов, а значения – списки оценок). Лектор при этом должен быть закреплен за тем курсом, на который записан студент (реализовать проверку)."
      ]
    },
    {
      "cell_type": "code",
      "execution_count": 8,
      "metadata": {
        "id": "U30yyvuirv6H"
      },
      "outputs": [],
      "source": [
        "# Реализация выше"
      ]
    },
    {
      "cell_type": "markdown",
      "metadata": {
        "id": "i6PrwEBSu39u"
      },
      "source": [
        "## Задание № 3. Полиморфизм и магические методы"
      ]
    },
    {
      "cell_type": "markdown",
      "metadata": {
        "id": "GvmtjlnmvF8b"
      },
      "source": [
        "Перегрузите магический метод \\_\\_str__ у всех классов.\n",
        "У проверяющих он должен выводить информацию в следующем виде:\n",
        "\n",
        "\n",
        "\n",
        "```\n",
        "print(some_reviewer)\n",
        "Имя: Some\n",
        "Фамилия: Buddy\n",
        "```\n",
        "\n",
        "У лекторов:\n",
        "\n",
        "\n",
        "\n",
        "```\n",
        "print(some_lecturer)\n",
        "Имя: Some\n",
        "Фамилия: Buddy\n",
        "Средняя оценка за лекции: 9.9\n",
        "```\n",
        "\n",
        "А у студентов так:\n",
        "\n",
        "\n",
        "\n",
        "```\n",
        "print(some_student)\n",
        "Имя: Ruoy\n",
        "Фамилия: Eman\n",
        "Средняя оценка за домашние задания: 9.9\n",
        "Курсы в процессе изучения: Python, Git\n",
        "Завершенные курсы: Введение в программирование\n",
        "```\n",
        "\n",
        "\n",
        "\n"
      ]
    },
    {
      "cell_type": "code",
      "execution_count": 18,
      "metadata": {
        "colab": {
          "base_uri": "https://localhost:8080/"
        },
        "id": "gCJAL_EmwU0b",
        "outputId": "cc822f98-6f69-4d15-9e2b-a1791154f55c"
      },
      "outputs": [
        {
          "name": "stdout",
          "output_type": "stream",
          "text": [
            "Имя: Some\n",
            "Фамилия: Student\n",
            "Средняя оценка за домашние задания: 7.5\n",
            "Курсы в процессе изучения: Python, Git\n",
            "Завершенные курсы: Введение в программирование\n",
            "\n"
          ]
        }
      ],
      "source": [
        "s = Student(\"Some\", \"Student\", \"male\")\n",
        "s.add_course_in_progress(\"Python\")\n",
        "s.add_course_in_progress(\"Git\")\n",
        "s.add_finished_course(\"Введение в программирование\")\n",
        "s.grades[\"Python\"] = [10, 5]\n",
        "s.grades[\"Git\"] = [7, 8]\n",
        "\n",
        "print(s)"
      ]
    },
    {
      "cell_type": "markdown",
      "metadata": {
        "id": "1DNE4TE3vfYI"
      },
      "source": [
        "**Реализуйте перегрузку других магических методов на Ваш выбор (не менее трёх), из тех, что были изучены на паре, руководствуясь по смыслу контекстом представленных классов (студенты, преподаватели, оценки и т.д.)**"
      ]
    },
    {
      "cell_type": "code",
      "execution_count": null,
      "metadata": {
        "id": "WNCf9PPMu4Gv"
      },
      "outputs": [],
      "source": [
        "# Реализация выше"
      ]
    },
    {
      "cell_type": "markdown",
      "metadata": {
        "id": "X8xvLNT6u4Nn"
      },
      "source": [
        "## Задание № 4. Тестирование\n",
        "\n",
        "Создайте по 2 экземпляра каждого класса, вызовите все созданные методы, а также реализуйте две функции:\n",
        "\n",
        "* для подсчета средней оценки за домашние задания по всем студентам в рамках конкретного курса (в качестве аргументов принимаем список студентов и название курса);\n",
        "* для подсчета средней оценки за лекции всех лекторов в рамках курса (в качестве аргумента принимаем список лекторов и название курса)."
      ]
    },
    {
      "cell_type": "code",
      "execution_count": 20,
      "metadata": {
        "colab": {
          "base_uri": "https://localhost:8080/"
        },
        "id": "uh8n08fdu4V_",
        "outputId": "4d2c1118-a6af-4d07-e5bf-c7e5942f01d1"
      },
      "outputs": [
        {
          "name": "stdout",
          "output_type": "stream",
          "text": [
            "Имя: Ivan\n",
            "Фамилия: Ivanov\n",
            "Средняя оценка за домашние задания: 4.666666666666667\n",
            "Курсы в процессе изучения: Python, Git, Информатика\n",
            "Завершенные курсы: Введение в программирование\n",
            "\n",
            "Имя: Petr\n",
            "Фамилия: Petrov\n",
            "Средняя оценка за домашние задания: 7.666666666666667\n",
            "Курсы в процессе изучения: Высшая математика, Информатика, Python\n",
            "Завершенные курсы: Физика\n",
            "\n",
            "Имя: Sidor\n",
            "Фамилия: Sidorov\n",
            "Средняя оценка за лекции: 8.0\n",
            "\n",
            "Имя: Tihon\n",
            "Фамилия: Tihonov\n",
            "Средняя оценка за лекции: 6.666666666666667\n",
            "\n",
            "Имя: Andrey\n",
            "Фамилия: Andreev\n",
            "\n",
            "Имя: Daniil\n",
            "Фамилия: Daniilov\n",
            "\n",
            "5.0\n",
            "7.5\n",
            "False\n",
            "True\n"
          ]
        }
      ],
      "source": [
        "lecturers = [\n",
        "    Lecturer(\"Sidor\", \"Sidorov\"),\n",
        "    Lecturer(\"Tihon\", \"Tihonov\"),\n",
        "]\n",
        "\n",
        "lecturers[0].add_courses(\"Python\")\n",
        "lecturers[0].add_courses(\"Git\")\n",
        "lecturers[0].add_courses(\"Информатика\")\n",
        "\n",
        "\n",
        "lecturers[1].add_courses(\"Информатика\")\n",
        "lecturers[1].add_courses(\"Высшая математика\")\n",
        "lecturers[1].add_courses(\"Python\")\n",
        "\n",
        "\n",
        "students = [\n",
        "    Student(\"Ivan\", \"Ivanov\", \"male\"),\n",
        "    Student(\"Petr\", \"Petrov\", \"male\"),\n",
        "]\n",
        "\n",
        "students[0].add_course_in_progress(\"Python\")\n",
        "students[0].add_course_in_progress(\"Git\")\n",
        "students[0].add_course_in_progress(\"Информатика\")\n",
        "students[0].add_finished_course(\"Введение в программирование\")\n",
        "students[0].rate_lecturer(lecturers[0], \"Python\", 10)\n",
        "students[0].rate_lecturer(lecturers[0], \"Git\", 5)\n",
        "students[0].rate_lecturer(lecturers[0], \"Информатика\", 10)\n",
        "students[0].rate_lecturer(lecturers[1], \"Информатика\", 5)\n",
        "\n",
        "students[1].add_course_in_progress(\"Высшая математика\")\n",
        "students[1].add_course_in_progress(\"Информатика\")\n",
        "students[1].add_course_in_progress(\"Python\")\n",
        "students[1].add_finished_course(\"Физика\")\n",
        "students[1].rate_lecturer(lecturers[0], \"Информатика\", 8)\n",
        "students[1].rate_lecturer(lecturers[1], \"Информатика\", 7)\n",
        "students[1].rate_lecturer(lecturers[1], \"Python\", 5)\n",
        "students[1].rate_lecturer(lecturers[1], \"Высшая математика\", 9)\n",
        "\n",
        "\n",
        "reviewers = [\n",
        "    Reviewer(\"Andrey\", \"Andreev\"),\n",
        "    Reviewer(\"Daniil\", \"Daniilov\"),\n",
        "]\n",
        "\n",
        "reviewers[0].rate_hw(students[0], \"Python\", 4)\n",
        "reviewers[0].rate_hw(students[0], \"Git\", 3)\n",
        "reviewers[0].rate_hw(students[1], \"Python\", 6)\n",
        "\n",
        "reviewers[1].rate_hw(students[0], \"Информатика\", 7)\n",
        "reviewers[1].rate_hw(students[1], \"Информатика\", 7)\n",
        "reviewers[1].rate_hw(students[1], \"Высшая математика\", 10)\n",
        "\n",
        "\n",
        "def average_hw_grade(course_name, *students: Student):\n",
        "    avgs, n = 0, 0\n",
        "    for student in students:\n",
        "        if course_name in student.grades.keys():\n",
        "            avgs += sum(student.grades[course_name]) / len(student.grades[course_name])\n",
        "            n += 1\n",
        "\n",
        "    return avgs / n\n",
        "\n",
        "\n",
        "def average_lec_grade(course_name, *lecturers: Lecturer):\n",
        "    avgs, n = 0, 0\n",
        "    for lecturer in lecturers:\n",
        "        if course_name in lecturer.grades.keys():\n",
        "            avgs += sum(lecturer.grades[course_name]) / len(\n",
        "                lecturer.grades[course_name]\n",
        "            )\n",
        "            n += 1\n",
        "\n",
        "    return avgs / n\n",
        "\n",
        "\n",
        "for s in students:\n",
        "    print(s)\n",
        "\n",
        "for l in lecturers:\n",
        "    print(l)\n",
        "\n",
        "for r in reviewers:\n",
        "    print(r)\n",
        "\n",
        "print(average_hw_grade(\"Python\", *students))\n",
        "print(average_lec_grade(\"Информатика\", *lecturers))\n",
        "print(students[0] == students[1])\n",
        "print(students[0] != students[1])"
      ]
    },
    {
      "cell_type": "code",
      "execution_count": null,
      "metadata": {
        "id": "NF1TiAzuen0x"
      },
      "outputs": [],
      "source": [
        "p"
      ]
    }
  ],
  "metadata": {
    "colab": {
      "provenance": []
    },
    "kernelspec": {
      "display_name": "base",
      "language": "python",
      "name": "python3"
    },
    "language_info": {
      "name": "python",
      "version": "3.9.7 (default, Sep 16 2021, 16:59:28) [MSC v.1916 64 bit (AMD64)]"
    },
    "vscode": {
      "interpreter": {
        "hash": "ad2bdc8ecc057115af97d19610ffacc2b4e99fae6737bb82f5d7fb13d2f2c186"
      }
    }
  },
  "nbformat": 4,
  "nbformat_minor": 0
}
